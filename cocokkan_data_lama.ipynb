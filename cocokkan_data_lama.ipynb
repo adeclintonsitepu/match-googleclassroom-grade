{
 "cells": [
  {
   "cell_type": "markdown",
   "metadata": {},
   "source": [
    "# Mengupdate dan Mencocokkan Data Semester Sebelumnya dengan yang Sekarang"
   ]
  },
  {
   "cell_type": "code",
   "execution_count": 12,
   "metadata": {},
   "outputs": [],
   "source": [
    "import pandas as pd\n",
    "import numpy as np\n",
    "\n",
    "# File CSV Nilai terbaru saat ini\n",
    "data1 =  pd.read_csv('Angkatan 2024\\ALGORITMA_DAN_PEMROGRAMAN_II.csv')\n",
    "\n",
    "# File Excel berisi database Email yang telah direkap di sebelumnya (Bisa saja lebih dari 2 karena 2023 sudah ada 4 jurusan)\n",
    "data2 = pd.read_excel('2024_daftar_mahasiswa.xlsx')\n",
    "#data3 = pd.read_excel('2023_D3TI_daftar_mahasiswa.xlsx')\n",
    "#data4 = pd.read_excel('2023_D4SIB_daftar_mahasiswa.xlsx')\n",
    "#data5 = pd.read_excel('2023_D4TRII_daftar_mahasiswa.xlsx')"
   ]
  },
  {
   "cell_type": "code",
   "execution_count": 13,
   "metadata": {},
   "outputs": [
    {
     "data": {
      "text/html": [
       "<div>\n",
       "<style scoped>\n",
       "    .dataframe tbody tr th:only-of-type {\n",
       "        vertical-align: middle;\n",
       "    }\n",
       "\n",
       "    .dataframe tbody tr th {\n",
       "        vertical-align: top;\n",
       "    }\n",
       "\n",
       "    .dataframe thead th {\n",
       "        text-align: right;\n",
       "    }\n",
       "</style>\n",
       "<table border=\"1\" class=\"dataframe\">\n",
       "  <thead>\n",
       "    <tr style=\"text-align: right;\">\n",
       "      <th></th>\n",
       "      <th>Email</th>\n",
       "    </tr>\n",
       "  </thead>\n",
       "  <tbody>\n",
       "    <tr>\n",
       "      <th>0</th>\n",
       "      <td>cindilase21@gmail.com</td>\n",
       "    </tr>\n",
       "    <tr>\n",
       "      <th>1</th>\n",
       "      <td>jernihzebua443@gmail.com</td>\n",
       "    </tr>\n",
       "    <tr>\n",
       "      <th>3</th>\n",
       "      <td>srysiringoringo@gmail.com</td>\n",
       "    </tr>\n",
       "    <tr>\n",
       "      <th>4</th>\n",
       "      <td>sipayungtirawati@gmail.com</td>\n",
       "    </tr>\n",
       "    <tr>\n",
       "      <th>5</th>\n",
       "      <td>yunitatumanggor05.uli@gmail.com</td>\n",
       "    </tr>\n",
       "    <tr>\n",
       "      <th>...</th>\n",
       "      <td>...</td>\n",
       "    </tr>\n",
       "    <tr>\n",
       "      <th>266</th>\n",
       "      <td>hermantotel24@gmail.com</td>\n",
       "    </tr>\n",
       "    <tr>\n",
       "      <th>267</th>\n",
       "      <td>afininur081@gmail.com</td>\n",
       "    </tr>\n",
       "    <tr>\n",
       "      <th>268</th>\n",
       "      <td>naibahovramita@gmail.com</td>\n",
       "    </tr>\n",
       "    <tr>\n",
       "      <th>269</th>\n",
       "      <td>harnumsimarmata485@gmail.com</td>\n",
       "    </tr>\n",
       "    <tr>\n",
       "      <th>272</th>\n",
       "      <td>jupensihombing83@gmail.com</td>\n",
       "    </tr>\n",
       "  </tbody>\n",
       "</table>\n",
       "<p>175 rows × 1 columns</p>\n",
       "</div>"
      ],
      "text/plain": [
       "                               Email\n",
       "0              cindilase21@gmail.com\n",
       "1           jernihzebua443@gmail.com\n",
       "3          srysiringoringo@gmail.com\n",
       "4         sipayungtirawati@gmail.com\n",
       "5    yunitatumanggor05.uli@gmail.com\n",
       "..                               ...\n",
       "266          hermantotel24@gmail.com\n",
       "267            afininur081@gmail.com\n",
       "268         naibahovramita@gmail.com\n",
       "269     harnumsimarmata485@gmail.com\n",
       "272       jupensihombing83@gmail.com\n",
       "\n",
       "[175 rows x 1 columns]"
      ]
     },
     "execution_count": 13,
     "metadata": {},
     "output_type": "execute_result"
    }
   ],
   "source": [
    "# Gabungkan data semua kelas di semester sekarang dan drop nilai NaN\n",
    "frames = [data2]  #JIKA ADA 1 kelas\n",
    "#frames = [data2, data3]  #JIKA ADA 2 kelas\n",
    "#frames = [data2, data3, data4, data5]  #JIKA ADA 4 kelas\n",
    "result = pd.concat(frames)\n",
    "result = result[['Email']].dropna()\n",
    "result"
   ]
  },
  {
   "cell_type": "code",
   "execution_count": 14,
   "metadata": {},
   "outputs": [
    {
     "data": {
      "text/html": [
       "<div>\n",
       "<style scoped>\n",
       "    .dataframe tbody tr th:only-of-type {\n",
       "        vertical-align: middle;\n",
       "    }\n",
       "\n",
       "    .dataframe tbody tr th {\n",
       "        vertical-align: top;\n",
       "    }\n",
       "\n",
       "    .dataframe thead th {\n",
       "        text-align: right;\n",
       "    }\n",
       "</style>\n",
       "<table border=\"1\" class=\"dataframe\">\n",
       "  <thead>\n",
       "    <tr style=\"text-align: right;\">\n",
       "      <th></th>\n",
       "      <th>Email</th>\n",
       "    </tr>\n",
       "  </thead>\n",
       "  <tbody>\n",
       "    <tr>\n",
       "      <th>2</th>\n",
       "      <td>anjelinazega27@gmail.com</td>\n",
       "    </tr>\n",
       "    <tr>\n",
       "      <th>3</th>\n",
       "      <td>pkuoppo34@gmail.com</td>\n",
       "    </tr>\n",
       "    <tr>\n",
       "      <th>4</th>\n",
       "      <td>adelubishidayani@gmail.com</td>\n",
       "    </tr>\n",
       "    <tr>\n",
       "      <th>5</th>\n",
       "      <td>alfansgiawa57@gmail.com</td>\n",
       "    </tr>\n",
       "    <tr>\n",
       "      <th>6</th>\n",
       "      <td>ambrosiusleaumanai@gmail.com</td>\n",
       "    </tr>\n",
       "    <tr>\n",
       "      <th>...</th>\n",
       "      <td>...</td>\n",
       "    </tr>\n",
       "    <tr>\n",
       "      <th>168</th>\n",
       "      <td>rendijuanj@gmail.com</td>\n",
       "    </tr>\n",
       "    <tr>\n",
       "      <th>169</th>\n",
       "      <td>srysiringoringo@gmail.com</td>\n",
       "    </tr>\n",
       "    <tr>\n",
       "      <th>170</th>\n",
       "      <td>tegarrisgidion@gmail.com</td>\n",
       "    </tr>\n",
       "    <tr>\n",
       "      <th>171</th>\n",
       "      <td>yehezkielkudadiri@gmail.com</td>\n",
       "    </tr>\n",
       "    <tr>\n",
       "      <th>172</th>\n",
       "      <td>yogisaputratobing7@gmail.com</td>\n",
       "    </tr>\n",
       "  </tbody>\n",
       "</table>\n",
       "<p>171 rows × 1 columns</p>\n",
       "</div>"
      ],
      "text/plain": [
       "                            Email\n",
       "2        anjelinazega27@gmail.com\n",
       "3             pkuoppo34@gmail.com\n",
       "4      adelubishidayani@gmail.com\n",
       "5         alfansgiawa57@gmail.com\n",
       "6    ambrosiusleaumanai@gmail.com\n",
       "..                            ...\n",
       "168          rendijuanj@gmail.com\n",
       "169     srysiringoringo@gmail.com\n",
       "170      tegarrisgidion@gmail.com\n",
       "171   yehezkielkudadiri@gmail.com\n",
       "172  yogisaputratobing7@gmail.com\n",
       "\n",
       "[171 rows x 1 columns]"
      ]
     },
     "execution_count": 14,
     "metadata": {},
     "output_type": "execute_result"
    }
   ],
   "source": [
    "# Hanya membandingkan kolom Email dan drop data NaN\n",
    "daftar_email_data1 = data1[['Email Address']].dropna()\n",
    "daftar_email_data1 = daftar_email_data1.rename(columns={'Email Address': 'Email'}) # Ubah nama header menjadi 'Email'\n",
    "daftar_email_data1"
   ]
  },
  {
   "cell_type": "markdown",
   "metadata": {},
   "source": [
    "# Hasil Akhir"
   ]
  },
  {
   "cell_type": "code",
   "execution_count": 15,
   "metadata": {},
   "outputs": [
    {
     "data": {
      "text/html": [
       "<div>\n",
       "<style scoped>\n",
       "    .dataframe tbody tr th:only-of-type {\n",
       "        vertical-align: middle;\n",
       "    }\n",
       "\n",
       "    .dataframe tbody tr th {\n",
       "        vertical-align: top;\n",
       "    }\n",
       "\n",
       "    .dataframe thead th {\n",
       "        text-align: right;\n",
       "    }\n",
       "</style>\n",
       "<table border=\"1\" class=\"dataframe\">\n",
       "  <thead>\n",
       "    <tr style=\"text-align: right;\">\n",
       "      <th></th>\n",
       "      <th>Email Baru</th>\n",
       "    </tr>\n",
       "  </thead>\n",
       "  <tbody>\n",
       "    <tr>\n",
       "      <th>0</th>\n",
       "      <td>fikayourbae346@gmail.com</td>\n",
       "    </tr>\n",
       "    <tr>\n",
       "      <th>1</th>\n",
       "      <td>namadepannamabelakang2387@gmail.com</td>\n",
       "    </tr>\n",
       "  </tbody>\n",
       "</table>\n",
       "</div>"
      ],
      "text/plain": [
       "                            Email Baru\n",
       "0             fikayourbae346@gmail.com\n",
       "1  namadepannamabelakang2387@gmail.com"
      ]
     },
     "execution_count": 15,
     "metadata": {},
     "output_type": "execute_result"
    }
   ],
   "source": [
    "# Periksa Apakah email di data semester sebelumnya: daftar_email_data1['Email'] tidak ada di data terbaru: result['Email']\n",
    "not_in_result_values = daftar_email_data1.loc[~daftar_email_data1['Email'].isin(result['Email']), 'Email'].tolist()\n",
    "\n",
    "# Jika ada, print daftarnya\n",
    "not_in_result_values = pd.DataFrame(not_in_result_values, columns=['Email Baru'])\n",
    "not_in_result_values"
   ]
  },
  {
   "cell_type": "code",
   "execution_count": 16,
   "metadata": {},
   "outputs": [
    {
     "data": {
      "text/html": [
       "<div>\n",
       "<style scoped>\n",
       "    .dataframe tbody tr th:only-of-type {\n",
       "        vertical-align: middle;\n",
       "    }\n",
       "\n",
       "    .dataframe tbody tr th {\n",
       "        vertical-align: top;\n",
       "    }\n",
       "\n",
       "    .dataframe thead th {\n",
       "        text-align: right;\n",
       "    }\n",
       "</style>\n",
       "<table border=\"1\" class=\"dataframe\">\n",
       "  <thead>\n",
       "    <tr style=\"text-align: right;\">\n",
       "      <th></th>\n",
       "      <th>Last Name</th>\n",
       "      <th>First Name</th>\n",
       "      <th>Email</th>\n",
       "    </tr>\n",
       "  </thead>\n",
       "  <tbody>\n",
       "    <tr>\n",
       "      <th>48</th>\n",
       "      <td>Yourbae</td>\n",
       "      <td>Fika</td>\n",
       "      <td>fikayourbae346@gmail.com</td>\n",
       "    </tr>\n",
       "    <tr>\n",
       "      <th>119</th>\n",
       "      <td>Alexander</td>\n",
       "      <td>S</td>\n",
       "      <td>namadepannamabelakang2387@gmail.com</td>\n",
       "    </tr>\n",
       "  </tbody>\n",
       "</table>\n",
       "</div>"
      ],
      "text/plain": [
       "     Last Name First Name                                Email\n",
       "48     Yourbae       Fika             fikayourbae346@gmail.com\n",
       "119  Alexander          S  namadepannamabelakang2387@gmail.com"
      ]
     },
     "execution_count": 16,
     "metadata": {},
     "output_type": "execute_result"
    }
   ],
   "source": [
    "# Details of the name database not contain in the old database\n",
    "temp = data1.rename(columns={'Email Address': 'Email'}).drop(data1.columns[3:], axis=1)\n",
    "filtered_df = temp[temp['Email'].isin(not_in_result_values['Email Baru'])]\n",
    "filtered_df"
   ]
  },
  {
   "cell_type": "code",
   "execution_count": 17,
   "metadata": {},
   "outputs": [],
   "source": [
    "#not_in_result_values.to_excel(\"new_data.xlsx\")"
   ]
  }
 ],
 "metadata": {
  "kernelspec": {
   "display_name": "Python 3",
   "language": "python",
   "name": "python3"
  },
  "language_info": {
   "codemirror_mode": {
    "name": "ipython",
    "version": 3
   },
   "file_extension": ".py",
   "mimetype": "text/x-python",
   "name": "python",
   "nbconvert_exporter": "python",
   "pygments_lexer": "ipython3",
   "version": "3.10.5"
  }
 },
 "nbformat": 4,
 "nbformat_minor": 2
}
