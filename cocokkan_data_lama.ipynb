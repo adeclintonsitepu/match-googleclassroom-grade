{
 "cells": [
  {
   "cell_type": "markdown",
   "metadata": {},
   "source": [
    "# Mengupdate dan Mencocokkan Data Semester Sebelumnya dengan yang Sekarang"
   ]
  },
  {
   "cell_type": "code",
   "execution_count": 26,
   "metadata": {},
   "outputs": [],
   "source": [
    "import pandas as pd\n",
    "import numpy as np\n",
    "\n",
    "# File CSV Nilai terbaru saat ini\n",
    "data1 =  pd.read_csv('Angkatan 2023\\Pendidikan_Agama_Softskill.csv')\n",
    "\n",
    "# File Excel berisi database Email yang telah direkap di sebelumnya (Bisa saja lebih dari 2 karena 2023 sudah ada 4 jurusan)\n",
    "data2 = pd.read_excel('2023_D3MI_daftar_mahasiswa.xlsx')\n",
    "data3 = pd.read_excel('2023_D3TI_daftar_mahasiswa.xlsx')\n",
    "#data4 = pd.read_excel('2023_D4SIB_daftar_mahasiswa.xlsx')\n",
    "#data5 = pd.read_excel('2023_D4TRII_daftar_mahasiswa.xlsx')"
   ]
  },
  {
   "cell_type": "code",
   "execution_count": 27,
   "metadata": {},
   "outputs": [
    {
     "data": {
      "text/html": [
       "<div>\n",
       "<style scoped>\n",
       "    .dataframe tbody tr th:only-of-type {\n",
       "        vertical-align: middle;\n",
       "    }\n",
       "\n",
       "    .dataframe tbody tr th {\n",
       "        vertical-align: top;\n",
       "    }\n",
       "\n",
       "    .dataframe thead th {\n",
       "        text-align: right;\n",
       "    }\n",
       "</style>\n",
       "<table border=\"1\" class=\"dataframe\">\n",
       "  <thead>\n",
       "    <tr style=\"text-align: right;\">\n",
       "      <th></th>\n",
       "      <th>Email</th>\n",
       "    </tr>\n",
       "  </thead>\n",
       "  <tbody>\n",
       "    <tr>\n",
       "      <th>0</th>\n",
       "      <td>adilfon2002@gmail.com</td>\n",
       "    </tr>\n",
       "    <tr>\n",
       "      <th>1</th>\n",
       "      <td>ayuasary64@gmail.com</td>\n",
       "    </tr>\n",
       "    <tr>\n",
       "      <th>2</th>\n",
       "      <td>derminamaharaja04@gmail.com</td>\n",
       "    </tr>\n",
       "    <tr>\n",
       "      <th>3</th>\n",
       "      <td>wahyusaputroeko538@gmail.com</td>\n",
       "    </tr>\n",
       "    <tr>\n",
       "      <th>4</th>\n",
       "      <td>whyuuuputro@gmail.com</td>\n",
       "    </tr>\n",
       "    <tr>\n",
       "      <th>...</th>\n",
       "      <td>...</td>\n",
       "    </tr>\n",
       "    <tr>\n",
       "      <th>45</th>\n",
       "      <td>otonigiawa999@gmail.com</td>\n",
       "    </tr>\n",
       "    <tr>\n",
       "      <th>46</th>\n",
       "      <td>ayuenjeli2002@gmail.com</td>\n",
       "    </tr>\n",
       "    <tr>\n",
       "      <th>47</th>\n",
       "      <td>yurniwaruwu2023@gmail.com</td>\n",
       "    </tr>\n",
       "    <tr>\n",
       "      <th>48</th>\n",
       "      <td>siskahia54@gmail.com</td>\n",
       "    </tr>\n",
       "    <tr>\n",
       "      <th>50</th>\n",
       "      <td>alfisaldi3@gmail.com</td>\n",
       "    </tr>\n",
       "  </tbody>\n",
       "</table>\n",
       "<p>170 rows × 1 columns</p>\n",
       "</div>"
      ],
      "text/plain": [
       "                           Email\n",
       "0          adilfon2002@gmail.com\n",
       "1           ayuasary64@gmail.com\n",
       "2    derminamaharaja04@gmail.com\n",
       "3   wahyusaputroeko538@gmail.com\n",
       "4          whyuuuputro@gmail.com\n",
       "..                           ...\n",
       "45       otonigiawa999@gmail.com\n",
       "46       ayuenjeli2002@gmail.com\n",
       "47     yurniwaruwu2023@gmail.com\n",
       "48          siskahia54@gmail.com\n",
       "50          alfisaldi3@gmail.com\n",
       "\n",
       "[170 rows x 1 columns]"
      ]
     },
     "execution_count": 27,
     "metadata": {},
     "output_type": "execute_result"
    }
   ],
   "source": [
    "# Gabungkan data semua kelas di semester sekarang dan drop nilai NaN\n",
    "frames = [data2, data3]  #JIKA ADA 2 kelas\n",
    "#frames = [data2, data3, data4, data5]  #JIKA ADA 4 kelas\n",
    "result = pd.concat(frames)\n",
    "result = result[['Email']].dropna()\n",
    "result"
   ]
  },
  {
   "cell_type": "code",
   "execution_count": 28,
   "metadata": {},
   "outputs": [
    {
     "data": {
      "text/html": [
       "<div>\n",
       "<style scoped>\n",
       "    .dataframe tbody tr th:only-of-type {\n",
       "        vertical-align: middle;\n",
       "    }\n",
       "\n",
       "    .dataframe tbody tr th {\n",
       "        vertical-align: top;\n",
       "    }\n",
       "\n",
       "    .dataframe thead th {\n",
       "        text-align: right;\n",
       "    }\n",
       "</style>\n",
       "<table border=\"1\" class=\"dataframe\">\n",
       "  <thead>\n",
       "    <tr style=\"text-align: right;\">\n",
       "      <th></th>\n",
       "      <th>Email</th>\n",
       "    </tr>\n",
       "  </thead>\n",
       "  <tbody>\n",
       "    <tr>\n",
       "      <th>2</th>\n",
       "      <td>adindanofitri12@gmail.com</td>\n",
       "    </tr>\n",
       "    <tr>\n",
       "      <th>3</th>\n",
       "      <td>afnisinaga50@gmail.com</td>\n",
       "    </tr>\n",
       "    <tr>\n",
       "      <th>4</th>\n",
       "      <td>sinagaafnika@gmail.com</td>\n",
       "    </tr>\n",
       "    <tr>\n",
       "      <th>5</th>\n",
       "      <td>hardjaagus@gmail.com</td>\n",
       "    </tr>\n",
       "    <tr>\n",
       "      <th>6</th>\n",
       "      <td>agustinusgulo71@gmail.com</td>\n",
       "    </tr>\n",
       "    <tr>\n",
       "      <th>...</th>\n",
       "      <td>...</td>\n",
       "    </tr>\n",
       "    <tr>\n",
       "      <th>167</th>\n",
       "      <td>laolimawati@gmail.com</td>\n",
       "    </tr>\n",
       "    <tr>\n",
       "      <th>168</th>\n",
       "      <td>rianitamba762@gmail.com</td>\n",
       "    </tr>\n",
       "    <tr>\n",
       "      <th>169</th>\n",
       "      <td>pasaribusaul0@gmail.com</td>\n",
       "    </tr>\n",
       "    <tr>\n",
       "      <th>170</th>\n",
       "      <td>tetymardianabawamenewi@gmail.com</td>\n",
       "    </tr>\n",
       "    <tr>\n",
       "      <th>171</th>\n",
       "      <td>ypasaribu518@gmail.com</td>\n",
       "    </tr>\n",
       "  </tbody>\n",
       "</table>\n",
       "<p>170 rows × 1 columns</p>\n",
       "</div>"
      ],
      "text/plain": [
       "                                Email\n",
       "2           adindanofitri12@gmail.com\n",
       "3              afnisinaga50@gmail.com\n",
       "4              sinagaafnika@gmail.com\n",
       "5                hardjaagus@gmail.com\n",
       "6           agustinusgulo71@gmail.com\n",
       "..                                ...\n",
       "167             laolimawati@gmail.com\n",
       "168           rianitamba762@gmail.com\n",
       "169           pasaribusaul0@gmail.com\n",
       "170  tetymardianabawamenewi@gmail.com\n",
       "171            ypasaribu518@gmail.com\n",
       "\n",
       "[170 rows x 1 columns]"
      ]
     },
     "execution_count": 28,
     "metadata": {},
     "output_type": "execute_result"
    }
   ],
   "source": [
    "# Hanya membandingkan kolom Email dan drop data NaN\n",
    "daftar_email_data1 = data1[['Email Address']].dropna()\n",
    "daftar_email_data1 = daftar_email_data1.rename(columns={'Email Address': 'Email'}) # Ubah nama header menjadi 'Email'\n",
    "daftar_email_data1"
   ]
  },
  {
   "cell_type": "markdown",
   "metadata": {},
   "source": [
    "# Hasil Akhir"
   ]
  },
  {
   "cell_type": "code",
   "execution_count": 29,
   "metadata": {},
   "outputs": [
    {
     "data": {
      "text/html": [
       "<div>\n",
       "<style scoped>\n",
       "    .dataframe tbody tr th:only-of-type {\n",
       "        vertical-align: middle;\n",
       "    }\n",
       "\n",
       "    .dataframe tbody tr th {\n",
       "        vertical-align: top;\n",
       "    }\n",
       "\n",
       "    .dataframe thead th {\n",
       "        text-align: right;\n",
       "    }\n",
       "</style>\n",
       "<table border=\"1\" class=\"dataframe\">\n",
       "  <thead>\n",
       "    <tr style=\"text-align: right;\">\n",
       "      <th></th>\n",
       "      <th>Email Baru</th>\n",
       "    </tr>\n",
       "  </thead>\n",
       "  <tbody>\n",
       "  </tbody>\n",
       "</table>\n",
       "</div>"
      ],
      "text/plain": [
       "Empty DataFrame\n",
       "Columns: [Email Baru]\n",
       "Index: []"
      ]
     },
     "execution_count": 29,
     "metadata": {},
     "output_type": "execute_result"
    }
   ],
   "source": [
    "# Periksa Apakah email di data semester sebelumnya: daftar_email_data1['Email'] tidak ada di data terbaru: result['Email']\n",
    "not_in_result_values = daftar_email_data1.loc[~daftar_email_data1['Email'].isin(result['Email']), 'Email'].tolist()\n",
    "\n",
    "# Jika ada, print daftarnya\n",
    "not_in_result_values = pd.DataFrame(not_in_result_values, columns=['Email Baru'])\n",
    "not_in_result_values"
   ]
  },
  {
   "cell_type": "code",
   "execution_count": 30,
   "metadata": {},
   "outputs": [],
   "source": [
    "#not_in_result_values.to_excel(\"new_data.xlsx\")"
   ]
  }
 ],
 "metadata": {
  "kernelspec": {
   "display_name": "Python 3",
   "language": "python",
   "name": "python3"
  },
  "language_info": {
   "codemirror_mode": {
    "name": "ipython",
    "version": 3
   },
   "file_extension": ".py",
   "mimetype": "text/x-python",
   "name": "python",
   "nbconvert_exporter": "python",
   "pygments_lexer": "ipython3",
   "version": "3.10.4"
  }
 },
 "nbformat": 4,
 "nbformat_minor": 2
}
