{
 "cells": [
  {
   "cell_type": "markdown",
   "id": "a67fc63b",
   "metadata": {},
   "source": [
    "## Program mencocokkan database kosong tanpa email dengan data file csv grade google classroom "
   ]
  },
  {
   "cell_type": "code",
   "execution_count": null,
   "id": "0f56c860",
   "metadata": {},
   "outputs": [
    {
     "name": "stdout",
     "output_type": "stream",
     "text": [
      "      No                    NIM                         Nama  \\\n",
      "0      1              202401001          CINDI IDAYANTI LASE   \n",
      "1      2              202401002        JERNIH KRISTINA ZEBUA   \n",
      "2      3              202401003            ORVANIA RAMBU APU   \n",
      "3      4              202401004  SRY HANDAYANI SIRINGO-RINGO   \n",
      "4      5              202401005            TIRAWATI SIPAYUNG   \n",
      "..   ...                    ...                          ...   \n",
      "262  263             2024240123           INDRIANI SIMARMATA   \n",
      "263  264             2024240124           MARSELINA BR BARUS   \n",
      "264  265  2024240125 (Ekstensi)            DIAN MUSTIKA GULO   \n",
      "265  266  2024240126 (Ekstensi)              RONNI SIHOMBING   \n",
      "266  267  2024240127 (Ekstensi)                    SUKAMDANI   \n",
      "\n",
      "                            Email  \n",
      "0           cindilase21@gmail.com  \n",
      "1        jernihzebua443@gmail.com  \n",
      "2                            None  \n",
      "3                            None  \n",
      "4      sipayungtirawati@gmail.com  \n",
      "..                            ...  \n",
      "262  harnumsimarmata485@gmail.com  \n",
      "263                          None  \n",
      "264                          None  \n",
      "265    jupensihombing83@gmail.com  \n",
      "266                          None  \n",
      "\n",
      "[267 rows x 4 columns]\n"
     ]
    }
   ],
   "source": [
    "import pandas as pd\n",
    "from difflib import get_close_matches\n",
    "\n",
    "# --- Table 1: Your main table ---\n",
    "table1_df = pd.read_excel('2024_daftar_mahasiswa.xlsx')\n",
    "\n",
    "# --- Table 2: Email database ---\n",
    "data1 = pd.read_csv('Angkatan 2024\\ALGORITMA_DAN_PEMROGRAMAN_II.csv')\n",
    "table2_df = data1.rename(columns={'Email Address': 'Email'}) # Ubah nama header menjadi 'Email'\n",
    "table2_df = table2_df.drop([0,1]).drop(data1.columns[3:], axis=1)\n",
    "\n",
    "# --- Helper: Normalize names (e.g., \"Jane Smith\", \"Smith Jane\", \"J. Smith\" → \"jane smith\") ---\n",
    "def normalize_name(name):\n",
    "    if pd.isna(name):\n",
    "        return ''\n",
    "    return ' '.join(sorted(str(name).lower().replace(',', '').split()))\n",
    "\n",
    "# Prepare normalized name list from table 2\n",
    "table2_df['Full Name'] = (table2_df['First Name'].fillna('') + ' ' + table2_df['Last Name'].fillna('')).apply(normalize_name)\n",
    "name_list = table2_df['Full Name'].tolist()\n",
    "email_list = table2_df['Email'].tolist()\n",
    "\n",
    "# --- Match and assign email ---\n",
    "def match_email(name):\n",
    "    norm_name = normalize_name(name)\n",
    "    matches = get_close_matches(norm_name, name_list, n=1, cutoff=0.7)\n",
    "    if matches:\n",
    "        matched_index = name_list.index(matches[0])\n",
    "        return email_list[matched_index]\n",
    "    return None\n",
    "\n",
    "# Apply to table1\n",
    "table1_df['Email'] = table1_df['Nama'].fillna('').apply(match_email)\n",
    "\n",
    "# --- Result ---\n",
    "table1_df"
   ]
  },
  {
   "cell_type": "code",
   "execution_count": 32,
   "id": "0d3be12a",
   "metadata": {},
   "outputs": [],
   "source": [
    "table1_df.to_excel(\"matched.xlsx\")"
   ]
  }
 ],
 "metadata": {
  "kernelspec": {
   "display_name": "Python 3",
   "language": "python",
   "name": "python3"
  },
  "language_info": {
   "codemirror_mode": {
    "name": "ipython",
    "version": 3
   },
   "file_extension": ".py",
   "mimetype": "text/x-python",
   "name": "python",
   "nbconvert_exporter": "python",
   "pygments_lexer": "ipython3",
   "version": "3.10.5"
  }
 },
 "nbformat": 4,
 "nbformat_minor": 5
}
